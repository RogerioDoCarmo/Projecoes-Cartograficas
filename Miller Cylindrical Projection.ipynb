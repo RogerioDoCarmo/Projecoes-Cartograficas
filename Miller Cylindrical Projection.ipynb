{
 "cells": [
  {
   "cell_type": "code",
   "execution_count": null,
   "metadata": {},
   "outputs": [],
   "source": [
    "import os \n",
    "\n",
    "#os.environ['PROJ_LIB'] = 'C:/ProgramData/Anaconda3/share/proj'\n",
    "os.environ['PROJ_LIB'] = 'C:/ProgramData/Anaconda3/pkgs/proj4-5.2.0-ha925a31_1/Library/share'\n",
    "desktop = os.path.join(os.path.join(os.environ['USERPROFILE']), 'Desktop') \n",
    "\n",
    "from mpl_toolkits.basemap import Basemap\n",
    "import numpy as np\n",
    "import matplotlib.pyplot as plt"
   ]
  },
  {
   "cell_type": "code",
   "execution_count": null,
   "metadata": {},
   "outputs": [],
   "source": [
    "# llcrnrlat,llcrnrlon,urcrnrlat,urcrnrlon\n",
    "# are the lat/lon values of the lower left and upper right corners\n",
    "# of the map.\n",
    "# resolution = 'c' means use crude resolution coastlines.\n",
    "m = Basemap(projection='mill',llcrnrlat=-90,urcrnrlat=90,\\\n",
    "            llcrnrlon=-180,urcrnrlon=180,resolution='c')\n",
    "m.drawcoastlines()\n",
    "m.fillcontinents(color='coral',lake_color='aqua')\n",
    "# draw parallels and meridians.\n",
    "m.drawparallels(np.arange(-90.,91.,30.))\n",
    "m.drawmeridians(np.arange(-180.,181.,60.))\n",
    "m.drawmapboundary(fill_color='aqua')\n",
    "# draw the title.\n",
    "plt.title('Miller Cylindrical Projection')\n",
    "plt.draw()\n",
    "plt.savefig(desktop + '\\\\Miller Cylindrical Projection.png', bbox_inches='tight')\n",
    "plt.show()"
   ]
  }
 ],
 "metadata": {
  "kernelspec": {
   "display_name": "Python 3",
   "language": "python",
   "name": "python3"
  },
  "language_info": {
   "codemirror_mode": {
    "name": "ipython",
    "version": 3
   },
   "file_extension": ".py",
   "mimetype": "text/x-python",
   "name": "python",
   "nbconvert_exporter": "python",
   "pygments_lexer": "ipython3",
   "version": "3.7.0"
  },
  "varInspector": {
   "cols": {
    "lenName": 16,
    "lenType": 16,
    "lenVar": 40
   },
   "kernels_config": {
    "python": {
     "delete_cmd_postfix": "",
     "delete_cmd_prefix": "del ",
     "library": "var_list.py",
     "varRefreshCmd": "print(var_dic_list())"
    },
    "r": {
     "delete_cmd_postfix": ") ",
     "delete_cmd_prefix": "rm(",
     "library": "var_list.r",
     "varRefreshCmd": "cat(var_dic_list()) "
    }
   },
   "types_to_exclude": [
    "module",
    "function",
    "builtin_function_or_method",
    "instance",
    "_Feature"
   ],
   "window_display": false
  }
 },
 "nbformat": 4,
 "nbformat_minor": 2
}
